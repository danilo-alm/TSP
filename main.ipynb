{
 "cells": [
  {
   "cell_type": "code",
   "execution_count": 4,
   "metadata": {},
   "outputs": [],
   "source": [
    "from utils.distance_matrix import DistanceMatrix\n",
    "from utils.tsp_solver import TSPSolver"
   ]
  },
  {
   "cell_type": "code",
   "execution_count": 2,
   "metadata": {},
   "outputs": [],
   "source": [
    "distance_matrix = DistanceMatrix.from_text_file('data/FIVE/five_d.txt')\n",
    "best_tour, best_distance = TSPSolver(distance_matrix).brute_force()"
   ]
  },
  {
   "cell_type": "code",
   "execution_count": 3,
   "metadata": {},
   "outputs": [
    {
     "data": {
      "text/plain": [
       "((0, 2, 1, 4, 3), 19)"
      ]
     },
     "execution_count": 3,
     "metadata": {},
     "output_type": "execute_result"
    }
   ],
   "source": [
    "best_tour, best_distance"
   ]
  },
  {
   "cell_type": "code",
   "execution_count": null,
   "metadata": {},
   "outputs": [],
   "source": [
    "import networkx as nx\n",
    "import matplotlib.pyplot as plt\n",
    "\n",
    "# Criar um grafo não direcionado\n",
    "G = nx.Graph()\n",
    "\n",
    "# Adicionar vértices\n",
    "G.add_nodes_from([1, 2, 3, 4])\n",
    "\n",
    "# Adicionar arestas com pesos\n",
    "G.add_edge(1, 2, weight=10)\n",
    "G.add_edge(1, 3, weight=20)\n",
    "G.add_edge(2, 3, weight=30)\n",
    "G.add_edge(3, 4, weight=15)\n",
    "\n",
    "# Layout do grafo com fator de escala ajustável\n",
    "pos = nx.spring_layout(G, scale=2)\n",
    "\n",
    "# Desenhar vértices\n",
    "nx.draw(G, pos, with_labels=True, node_size=700, node_color='skyblue', font_size=12, font_weight='bold')\n",
    "\n",
    "# Desenhar arestas\n",
    "labels = nx.get_edge_attributes(G, 'weight')\n",
    "nx.draw_networkx_edge_labels(G, pos, edge_labels=labels)\n",
    "\n",
    "# Exibir o grafo\n",
    "plt.title('Grafo Ponderado Não Direcionado com Layout de Mola')\n",
    "plt.show()\n"
   ]
  }
 ],
 "metadata": {
  "kernelspec": {
   "display_name": "env",
   "language": "python",
   "name": "python3"
  },
  "language_info": {
   "codemirror_mode": {
    "name": "ipython",
    "version": 3
   },
   "file_extension": ".py",
   "mimetype": "text/x-python",
   "name": "python",
   "nbconvert_exporter": "python",
   "pygments_lexer": "ipython3",
   "version": "3.11.2"
  }
 },
 "nbformat": 4,
 "nbformat_minor": 2
}
