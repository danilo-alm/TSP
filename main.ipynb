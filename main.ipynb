{
 "cells": [
  {
   "cell_type": "code",
   "execution_count": 1,
   "metadata": {},
   "outputs": [],
   "source": [
    "from utils.distance_matrix import DistanceMatrix\n",
    "from utils.tsp_solver import TSPSolver"
   ]
  },
  {
   "cell_type": "code",
   "execution_count": 2,
   "metadata": {},
   "outputs": [],
   "source": [
    "#distance_matrix = DistanceMatrix.from_text_file('data/FIVE/five_d.txt')\n",
    "distance_matrix = DistanceMatrix.from_text_file('data/ATT48/att48_d.txt')\n",
    "#best_tour, best_distance = TSPSolver(distance_matrix).brute_force()"
   ]
  },
  {
   "cell_type": "code",
   "execution_count": 3,
   "metadata": {},
   "outputs": [
    {
     "data": {
      "text/plain": [
       "((0, 2, 1, 4, 3), 19)"
      ]
     },
     "execution_count": 3,
     "metadata": {},
     "output_type": "execute_result"
    }
   ],
   "source": [
    "best_tour, best_distance"
   ]
  },
  {
   "cell_type": "code",
   "execution_count": 3,
   "metadata": {},
   "outputs": [
    {
     "name": "stdout",
     "output_type": "stream",
     "text": [
      "Caminho aproximado do PCV: [0, 3, 2, 1, 4, 0]\n"
     ]
    }
   ],
   "source": [
    "from utils.dijkstra_tsp import DijsktraTSP\n",
    "\n",
    "DijsktraTSP.bestDistance(distance_matrix)"
   ]
  }
 ],
 "metadata": {
  "kernelspec": {
   "display_name": "env",
   "language": "python",
   "name": "python3"
  },
  "language_info": {
   "codemirror_mode": {
    "name": "ipython",
    "version": 3
   },
   "file_extension": ".py",
   "mimetype": "text/x-python",
   "name": "python",
   "nbconvert_exporter": "python",
   "pygments_lexer": "ipython3",
   "version": "3.12.1"
  }
 },
 "nbformat": 4,
 "nbformat_minor": 2
}
